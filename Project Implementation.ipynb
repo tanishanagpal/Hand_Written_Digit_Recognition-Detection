{
  "cells": [
    {
      "cell_type": "code",
      "execution_count": null,
      "metadata": {
        "id": "MfYcqj4XZ8Sn"
      },
      "outputs": [],
      "source": [
        "import tensorflow as tf\n",
        "import numpy as np\n",
        "from tensorflow import keras\n",
        "import matplotlib.pyplot as plt"
      ]
    },
    {
      "cell_type": "code",
      "execution_count": null,
      "metadata": {
        "colab": {
          "base_uri": "https://localhost:8080/"
        },
        "id": "UvAcsBj1Vx9x",
        "outputId": "3ebcc0ce-5039-416a-df50-bb25ae6f003d"
      },
      "outputs": [
        {
          "output_type": "stream",
          "name": "stdout",
          "text": [
            "Downloading data from https://storage.googleapis.com/tensorflow/tf-keras-datasets/mnist.npz\n",
            "11490434/11490434 [==============================] - 0s 0us/step\n"
          ]
        }
      ],
      "source": [
        "from keras.datasets import mnist\n",
        "mnist = tf.keras.datasets.mnist\n",
        "(training_images, training_labels) , (test_images, test_labels) = mnist.load_data()"
      ]
    },
    {
      "cell_type": "code",
      "execution_count": null,
      "metadata": {
        "colab": {
          "base_uri": "https://localhost:8080/"
        },
        "id": "gt-xG2YtL2pr",
        "outputId": "e9663963-07ce-4fa4-f3e5-98bef02d871f"
      },
      "outputs": [
        {
          "output_type": "stream",
          "name": "stdout",
          "text": [
            "60000\n",
            "10000\n"
          ]
        }
      ],
      "source": [
        "print(len(training_images))\n",
        "print(len(test_images))\n"
      ]
    },
    {
      "cell_type": "code",
      "execution_count": null,
      "metadata": {
        "colab": {
          "base_uri": "https://localhost:8080/"
        },
        "id": "lwwU9X8YhI_C",
        "outputId": "f5f7fc65-42b9-4be8-9475-222837302ba1"
      },
      "outputs": [
        {
          "output_type": "stream",
          "name": "stdout",
          "text": [
            "9\n"
          ]
        }
      ],
      "source": [
        "print(training_labels[4])"
      ]
    },
    {
      "cell_type": "code",
      "execution_count": null,
      "metadata": {
        "colab": {
          "base_uri": "https://localhost:8080/",
          "height": 846
        },
        "id": "PKtxuUM59VD_",
        "outputId": "4348c414-76f1-4de4-bc16-d2cc202f8766"
      },
      "outputs": [
        {
          "output_type": "display_data",
          "data": {
            "text/plain": [
              "<Figure size 1000x1000 with 16 Axes>"
            ],
            "image/png": "[encoded data removed]"
          },
          "metadata": {}
        },
        {
          "output_type": "stream",
          "name": "stdout",
          "text": [
            "(28, 28)\n"
          ]
        }
      ],
      "source": [
        "import matplotlib.pyplot as plt\n",
        "from tensorflow.keras.datasets import mnist\n",
        "\n",
        "# Load the MNIST dataset\n",
        "(x_train, y_train), (x_test, y_test) = mnist.load_data()\n",
        "\n",
        "# Selecting 16 images from the training set\n",
        "images = x_train[16:32]\n",
        "\n",
        "# Plot the images in a 4x4 configuration\n",
        "plt.figure(figsize=(10, 10)) #creates a figure with a width and height of 10 inches. This will ensure that the images are displayed in a large enough size to be easily visible.\n",
        "for i in range(16): #creates a loop that will iterate 16 times. The loop will index the images in the images array, starting from 0 and ending at 15.\n",
        "  plt.subplot(4, 4, i + 1) #creates a subplot in the figure. The subplot will have 4 rows and 4 columns, and the current iteration of the loop will determine the index of the subplot.\n",
        "  plt.imshow(images[i], cmap=\"gray\") #plots image at current index in grayscale\n",
        "  plt.title(str(y_train[i+16]))\n",
        "  plt.axis(\"off\") #removes the axis labels from the subplot. This will make the plot look cleaner and more concise.\n",
        "\n",
        "\n",
        "plt.show()\n",
        "\n",
        "print(images[0].shape)"
      ]
    },
    {
      "cell_type": "code",
      "execution_count": null,
      "metadata": {
        "colab": {
          "base_uri": "https://localhost:8080/",
          "height": 985
        },
        "id": "HSUhDjl9Z9B1",
        "outputId": "36876c4e-305e-4b6b-bfba-90f846bf0d71"
      },
      "outputs": [
        {
          "output_type": "stream",
          "name": "stdout",
          "text": [
            "LABEL: 9\n",
            "\n",
            "IMAGE PIXEL ARRAT:\n",
            " [[  0   0   0   0   0   0   0   0   0   0   0   0   0   0   0   0   0   0   0   0   0   0   0   0   0   0   0   0]\n",
            " [  0   0   0   0   0   0   0   0   0   0   0   0   0   0   0   0   0   0   0   0   0   0   0   0   0   0   0   0]\n",
            " [  0   0   0   0   0   0   0   0   0   0   0   0   0   0   0   0   0   0   0   0   0   0   0   0   0   0   0   0]\n",
            " [  0   0   0   0   0   0   0   0   0   0   0   0   0   0   0   0   0   0   0   0   0   0   0   0   0   0   0   0]\n",
            " [  0   0   0   0   0   0   0   0   0   0   0   0   0   0   0   0   0   0   0   0   0   0   0   0   0   0   0   0]\n",
            " [  0   0   0   0   0   0   0   0   0   0   0   0   0   0   0   0   0   0   0   0   0   0   0   0   0   0   0   0]\n",
            " [  0   0   0   0   0   0   0   0   0   0   0   0   0   0   0   0   0   0   0   0   0   0   0   0   0   0   0   0]\n",
            " [  0   0   0   0   0   0   0   0   0   0   0   0  55 148 210 253 253 113  87 148  55   0   0   0   0   0   0   0]\n",
            " [  0   0   0   0   0   0   0   0   0   0   0  87 232 252 253 189 210 252 252 253 168   0   0   0   0   0   0   0]\n",
            " [  0   0   0   0   0   0   0   0   0   4  57 242 252 190  65   5  12 182 252 253 116   0   0   0   0   0   0   0]\n",
            " [  0   0   0   0   0   0   0   0   0  96 252 252 183  14   0   0  92 252 252 225  21   0   0   0   0   0   0   0]\n",
            " [  0   0   0   0   0   0   0   0 132 253 252 146  14   0   0   0 215 252 252  79   0   0   0   0   0   0   0   0]\n",
            " [  0   0   0   0   0   0   0 126 253 247 176   9   0   0   8  78 245 253 129   0   0   0   0   0   0   0   0   0]\n",
            " [  0   0   0   0   0   0  16 232 252 176   0   0   0  36 201 252 252 169  11   0   0   0   0   0   0   0   0   0]\n",
            " [  0   0   0   0   0   0  22 252 252  30  22 119 197 241 253 252 251  77   0   0   0   0   0   0   0   0   0   0]\n",
            " [  0   0   0   0   0   0  16 231 252 253 252 252 252 226 227 252 231   0   0   0   0   0   0   0   0   0   0   0]\n",
            " [  0   0   0   0   0   0   0  55 235 253 217 138  42  24 192 252 143   0   0   0   0   0   0   0   0   0   0   0]\n",
            " [  0   0   0   0   0   0   0   0   0   0   0   0   0  62 255 253 109   0   0   0   0   0   0   0   0   0   0   0]\n",
            " [  0   0   0   0   0   0   0   0   0   0   0   0   0  71 253 252  21   0   0   0   0   0   0   0   0   0   0   0]\n",
            " [  0   0   0   0   0   0   0   0   0   0   0   0   0   0 253 252  21   0   0   0   0   0   0   0   0   0   0   0]\n",
            " [  0   0   0   0   0   0   0   0   0   0   0   0   0  71 253 252  21   0   0   0   0   0   0   0   0   0   0   0]\n",
            " [  0   0   0   0   0   0   0   0   0   0   0   0   0 106 253 252  21   0   0   0   0   0   0   0   0   0   0   0]\n",
            " [  0   0   0   0   0   0   0   0   0   0   0   0   0  45 255 253  21   0   0   0   0   0   0   0   0   0   0   0]\n",
            " [  0   0   0   0   0   0   0   0   0   0   0   0   0   0 218 252  56   0   0   0   0   0   0   0   0   0   0   0]\n",
            " [  0   0   0   0   0   0   0   0   0   0   0   0   0   0  96 252 189  42   0   0   0   0   0   0   0   0   0   0]\n",
            " [  0   0   0   0   0   0   0   0   0   0   0   0   0   0  14 184 252 170  11   0   0   0   0   0   0   0   0   0]\n",
            " [  0   0   0   0   0   0   0   0   0   0   0   0   0   0   0  14 147 252  42   0   0   0   0   0   0   0   0   0]\n",
            " [  0   0   0   0   0   0   0   0   0   0   0   0   0   0   0   0   0   0   0   0   0   0   0   0   0   0   0   0]]\n"
          ]
        },
        {
          "output_type": "execute_result",
          "data": {
            "text/plain": [
              "<matplotlib.image.AxesImage at 0x7b23c917caf0>"
            ]
          },
          "metadata": {},
          "execution_count": 6
        },
        {
          "output_type": "display_data",
          "data": {
            "text/plain": [
              "<Figure size 640x480 with 1 Axes>"
            ],
            "image/png": "[encoded data removed]"
          },
          "metadata": {}
        }
      ],
      "source": [
        "#You can put between 0 to 59999 here\n",
        "index=4\n",
        "\n",
        "#Set number of characters per row when printing\n",
        "np.set_printoptions(linewidth=320)\n",
        "\n",
        "#Print the label and image\n",
        "print(f'LABEL: {training_labels[index]}')\n",
        "print(f'\\nIMAGE PIXEL ARRAT:\\n {training_images[index]}')\n",
        "\n",
        "#Visualize the image\n",
        "\n",
        "plt.imshow(training_images[index])"
      ]
    },
    {
      "cell_type": "code",
      "execution_count": null,
      "metadata": {
        "id": "-Sths5L3Z5Im"
      },
      "outputs": [],
      "source": [
        "# Normalize the pixel values of the train and test images\n",
        "training_images  = training_images / 255.0\n",
        "test_images = test_images / 255.0"
      ]
    },
    {
      "cell_type": "code",
      "execution_count": null,
      "metadata": {
        "id": "tOzWOgqsneKE"
      },
      "outputs": [],
      "source": [
        "from tensorflow.keras.preprocessing.image import ImageDataGenerator\n",
        "train_datagen= ImageDataGenerator(\n",
        "        rescale=1./255,\n",
        "        rotation_range=40,\n",
        "        width_shift_range=0.2,\n",
        "        height_shift_range=0.2,\n",
        "        shear_range=0.2,\n",
        "        zoom_range=0.2,\n",
        "        horizontal_flip=False,\n",
        "        fill_mode='nearest')\n",
        "\n",
        "test_datagen=ImageDataGenerator(\n",
        "        rescale=1./255,\n",
        "        rotation_range=40,\n",
        "        width_shift_range=0.2,\n",
        "        height_shift_range=0.2,\n",
        "        shear_range=0.2,\n",
        "        zoom_range=0.2,\n",
        "        horizontal_flip=False,\n",
        "        fill_mode='nearest')"
      ]
    },
    {
      "cell_type": "code",
      "execution_count": null,
      "metadata": {
        "colab": {
          "base_uri": "https://localhost:8080/"
        },
        "id": "cpwqq1GQcjd4",
        "outputId": "5deac7ef-be70-4877-9690-6487db884fde"
      },
      "outputs": [
        {
          "output_type": "stream",
          "name": "stdout",
          "text": [
            "Model: \"sequential\"\n",
            "_________________________________________________________________\n",
            " Layer (type)                Output Shape              Param #   \n",
            "=================================================================\n",
            " conv2d (Conv2D)             (None, 26, 26, 128)       1280      \n",
            "                                                                 \n",
            " max_pooling2d (MaxPooling2  (None, 13, 13, 128)       0         \n",
            " D)                                                              \n",
            "                                                                 \n",
            " conv2d_1 (Conv2D)           (None, 11, 11, 128)       147584    \n",
            "                                                                 \n",
            " max_pooling2d_1 (MaxPoolin  (None, 5, 5, 128)         0         \n",
            " g2D)                                                            \n",
            "                                                                 \n",
            " flatten (Flatten)           (None, 3200)              0         \n",
            "                                                                 \n",
            " dense (Dense)               (None, 64)                204864    \n",
            "                                                                 \n",
            " dense_1 (Dense)             (None, 10)                650       \n",
            "                                                                 \n",
            "=================================================================\n",
            "Total params: 354378 (1.35 MB)\n",
            "Trainable params: 354378 (1.35 MB)\n",
            "Non-trainable params: 0 (0.00 Byte)\n",
            "_________________________________________________________________\n",
            "\n",
            "MODEL TRAINING:\n",
            "Epoch 1/10\n",
            "1875/1875 [==============================] - 214s 114ms/step - loss: 0.1198 - accuracy: 0.9622\n",
            "Epoch 2/10\n",
            "1875/1875 [==============================] - 214s 114ms/step - loss: 0.0409 - accuracy: 0.9876\n",
            "Epoch 3/10\n",
            "1875/1875 [==============================] - 215s 115ms/step - loss: 0.0276 - accuracy: 0.9912\n",
            "Epoch 4/10\n",
            "1875/1875 [==============================] - 215s 114ms/step - loss: 0.0199 - accuracy: 0.9935\n",
            "Epoch 5/10\n",
            "1875/1875 [==============================] - 213s 114ms/step - loss: 0.0159 - accuracy: 0.9947\n",
            "Epoch 6/10\n",
            "1875/1875 [==============================] - 213s 113ms/step - loss: 0.0115 - accuracy: 0.9959\n",
            "Epoch 7/10\n",
            "1875/1875 [==============================] - 209s 111ms/step - loss: 0.0090 - accuracy: 0.9973\n",
            "Epoch 8/10\n",
            "1875/1875 [==============================] - 209s 112ms/step - loss: 0.0074 - accuracy: 0.9975\n",
            "Epoch 9/10\n",
            "1875/1875 [==============================] - 209s 111ms/step - loss: 0.0086 - accuracy: 0.9972\n",
            "Epoch 10/10\n",
            "1875/1875 [==============================] - 208s 111ms/step - loss: 0.0070 - accuracy: 0.9975\n",
            "\\MODEL EVALUATION:\n",
            "313/313 [==============================] - 10s 32ms/step - loss: 0.0364 - accuracy: 0.9916\n"
          ]
        }
      ],
      "source": [
        "# Build the model.\n",
        "model = tf.keras.models.Sequential([\n",
        "                  tf.keras.layers.Conv2D(128,(3,3),activation='relu',input_shape=(28,28,1)),\n",
        "                  tf.keras.layers.MaxPooling2D(2,2),\n",
        "                  tf.keras.layers.Conv2D(128 ,(3,3),activation='relu'),\n",
        "                  tf.keras.layers.MaxPooling2D(2,2),\n",
        "\n",
        "\n",
        "                  tf.keras.layers.Flatten(),\n",
        "                  tf.keras.layers.Dense(64, activation='relu'),\n",
        "                  tf.keras.layers.Dense(10, activation='softmax')\n",
        "])\n",
        "\n",
        "#Print summary\n",
        "model.summary()\n",
        "\n",
        "#use same settings\n",
        "model.compile(optimizer='adam',loss='sparse_categorical_crossentropy', metrics=['accuracy'])\n",
        "\n",
        "#train the model\n",
        "print(f'\\nMODEL TRAINING:')\n",
        "model.fit(training_images, training_labels, epochs=10)\n",
        "\n",
        "#Evaluate on the test\n",
        "print(f'\\MODEL EVALUATION:')\n",
        "test_loss = model.evaluate(test_images,test_labels)"
      ]
    },
    {
      "cell_type": "code",
      "execution_count": null,
      "metadata": {
        "colab": {
          "base_uri": "https://localhost:8080/"
        },
        "id": "ajrOELhJb5RA",
        "outputId": "deffc53f-003e-451d-bac8-89841d59636d"
      },
      "outputs": [
        {
          "output_type": "stream",
          "name": "stdout",
          "text": [
            "[7 2 1 0 4 1 4 9 5 9 0 6 9 0 1 5 9 7 3 4 9 6 6 5 4 0 7 4 0 1 3 1 3 4 7 2 7 1 2 1 1 7 4 2 3 5 1 2 4 4 6 3 5 5 6 0 4 1 9 5 7 8 9 3 7 4 6 4 3 0 7 0 2 9 1 7 3 2 9 7 7 6 2 7 8 4 7 3 6 1 3 6 9 3 1 4 1 7 6 9]\n"
          ]
        }
      ],
      "source": [
        "print(test_labels[:100])"
      ]
    },
    {
      "cell_type": "code",
      "execution_count": null,
      "metadata": {
        "colab": {
          "base_uri": "https://localhost:8080/"
        },
        "id": "alF4FGiPgYuq",
        "outputId": "4fc34b4e-dbe7-4b86-ff6e-a9eac317e7ca"
      },
      "outputs": [
        {
          "output_type": "stream",
          "name": "stdout",
          "text": [
            "7\n",
            "9\n",
            "3\n"
          ]
        }
      ],
      "source": [
        "print(test_labels[0])\n",
        "print(test_labels[16])\n",
        "print(test_labels[30])"
      ]
    },
    {
      "cell_type": "code",
      "execution_count": null,
      "metadata": {
        "colab": {
          "base_uri": "https://localhost:8080/",
          "height": 640
        },
        "id": "Hj3XSJ60cUyX",
        "outputId": "d30e61c2-0a3b-4d0f-d8bd-12ae56ecded1"
      },
      "outputs": [
        {
          "output_type": "stream",
          "name": "stdout",
          "text": [
            "1/1 [==============================] - 0s 108ms/step\n",
            "1/1 [==============================] - 0s 20ms/step\n",
            "1/1 [==============================] - 0s 19ms/step\n",
            "1/1 [==============================] - 0s 22ms/step\n",
            "1/1 [==============================] - 0s 19ms/step\n",
            "1/1 [==============================] - 0s 28ms/step\n",
            "1/1 [==============================] - 0s 23ms/step\n",
            "1/1 [==============================] - 0s 22ms/step\n",
            "1/1 [==============================] - 0s 20ms/step\n",
            "1/1 [==============================] - 0s 21ms/step\n",
            "1/1 [==============================] - 0s 29ms/step\n",
            "1/1 [==============================] - 0s 26ms/step\n"
          ]
        },
        {
          "output_type": "display_data",
          "data": {
            "text/plain": [
              "<Figure size 640x480 with 12 Axes>"
            ],
            "image/png": "[encoded data removed]"
          },
          "metadata": {}
        }
      ],
      "source": [
        "#just to show how convolutions work\n",
        "from tensorflow.keras import models\n",
        "f, axarr= plt.subplots(3,4)\n",
        "\n",
        "FIRST_IMAGE=0\n",
        "SECOND_IMAGE=16\n",
        "THIRD_IMAGE=30\n",
        "CONVOLUTION_NUMBER=1\n",
        "\n",
        "layer_outputs = [layer.output for layer in model.layers]\n",
        "activation_model = tf.keras.models.Model(inputs = model.input, outputs = layer_outputs)\n",
        "\n",
        "for x in range(0,4):\n",
        "  f1 = activation_model.predict(test_images[FIRST_IMAGE].reshape(1, 28, 28, 1))[x]\n",
        "  axarr[0,x].imshow(f1[0, : , :, CONVOLUTION_NUMBER], cmap='inferno')\n",
        "  axarr[0,x].grid(False)\n",
        "\n",
        "  f2 = activation_model.predict(test_images[SECOND_IMAGE].reshape(1, 28, 28, 1))[x]\n",
        "  axarr[1,x].imshow(f2[0, : , :, CONVOLUTION_NUMBER], cmap='inferno')\n",
        "  axarr[1,x].grid(False)\n",
        "\n",
        "  f3 = activation_model.predict(test_images[THIRD_IMAGE].reshape(1, 28, 28, 1))[x]\n",
        "  axarr[2,x].imshow(f3[0, : , :, CONVOLUTION_NUMBER], cmap='inferno')\n",
        "  axarr[2,x].grid(False)"
      ]
    },
    {
      "cell_type": "code",
      "execution_count": null,
      "metadata": {
        "colab": {
          "base_uri": "https://localhost:8080/"
        },
        "id": "yLBnBs8efAHR",
        "outputId": "97ceac06-1c8f-4636-f6c1-77ac194df9da"
      },
      "outputs": [
        {
          "output_type": "stream",
          "name": "stdout",
          "text": [
            "313/313 [==============================] - 10s 32ms/step - loss: 0.0364 - accuracy: 0.9916\n"
          ]
        },
        {
          "output_type": "execute_result",
          "data": {
            "text/plain": [
              "[0.03642052784562111, 0.991599977016449]"
            ]
          },
          "metadata": {},
          "execution_count": 13
        }
      ],
      "source": [
        "model.evaluate(test_images,test_labels)"
      ]
    },
    {
      "cell_type": "code",
      "execution_count": null,
      "metadata": {
        "colab": {
          "base_uri": "https://localhost:8080/"
        },
        "id": "DcSaCMa8smut",
        "outputId": "92514fbc-dfb6-4ad8-b634-3a9ecd1a005f"
      },
      "outputs": [
        {
          "output_type": "stream",
          "name": "stdout",
          "text": [
            "1/1 [==============================] - 0s 70ms/step\n",
            "The digit in the image is: 7\n"
          ]
        }
      ],
      "source": [
        "import cv2\n",
        "# Predict the digit in a new image\n",
        "# Read the image in grayscale\n",
        "image = cv2.imread(\"/content/7.3.jpg\", 0)  #current image 28x28x3\n",
        "\n",
        "# Reshape the image\n",
        "image = image.reshape((1, 28, 28)) #1 for grayscaling\n",
        "\n",
        "# Predict the digit in the image\n",
        "prediction = model.predict(image)\n",
        "\n",
        "\n",
        "print(\"The digit in the image is: \" + str(np.argmax(prediction)))"
      ]
    },
    {
      "cell_type": "code",
      "source": [
        "import cv2\n",
        "import numpy as np\n",
        "\n",
        "def slice_image(image):\n",
        "  \"\"\"Slices an image into 10 slices of 28x28.\"\"\"\n",
        "  width, height = image.shape[1], image.shape[0]\n",
        "  slices = np.zeros((10, 28, 28, 3), dtype=np.uint8)\n",
        "  for i in range(10):\n",
        "    start_x = i * 28\n",
        "    end_x = start_x + 28\n",
        "    start_y = 0\n",
        "    end_y = height\n",
        "    slices[i] = image[start_y:end_y, start_x:end_x]\n",
        "  return slices\n",
        "\n",
        "image = cv2.imread(\"280x28 wali image2.jpg\")\n",
        "slices = slice_image(image)\n",
        "\n",
        "for i in range(10):\n",
        "  cv2.imwrite(\"slice_{}.jpg\".format(i), slices[i])"
      ],
      "metadata": {
        "id": "nXvI6BgKdFj3"
      },
      "execution_count": null,
      "outputs": []
    },
    {
      "cell_type": "code",
      "source": [
        "import cv2\n",
        "# Predict the digit in a new image\n",
        "# Read the image in grayscale\n",
        "image = cv2.imread(\"/content/slice_8.jpg\", 0)\n",
        "\n",
        "# Reshape the image\n",
        "image = image.reshape((1, 28, 28))\n",
        "\n",
        "# Predict the digit in the image\n",
        "prediction = model.predict(image)\n",
        "\n",
        "\n",
        "print(\"The digit in the image is: \" + str(np.argmax(prediction)))"
      ],
      "metadata": {
        "colab": {
          "base_uri": "https://localhost:8080/"
        },
        "id": "OlsX5nMhpPiP",
        "outputId": "ae9d7837-4892-4232-b1c0-a7abdba67666"
      },
      "execution_count": null,
      "outputs": [
        {
          "output_type": "stream",
          "name": "stdout",
          "text": [
            "1/1 [==============================] - 0s 39ms/step\n",
            "The digit in the image is: 5\n"
          ]
        }
      ]
    },
    {
      "cell_type": "markdown",
      "source": [],
      "metadata": {
        "id": "zAKAsjHLokY6"
      }
    },
    {
      "cell_type": "markdown",
      "source": [
        "The code below is not used it is for my experimental use"
      ],
      "metadata": {
        "id": "-umaDxc4I97n"
      }
    },
    {
      "cell_type": "code",
      "execution_count": null,
      "metadata": {
        "id": "N8tM4N1Mzia_"
      },
      "outputs": [],
      "source": [
        "##model.save('model.h5')"
      ]
    },
    {
      "cell_type": "code",
      "execution_count": null,
      "metadata": {
        "id": "0k7dO-YGvtdC"
      },
      "outputs": [],
      "source": [
        "##from google.colab import files\n",
        "##files.download('model.h5')"
      ]
    },
    {
      "cell_type": "code",
      "execution_count": null,
      "metadata": {
        "id": "ER6BlyVlpnRU"
      },
      "outputs": [],
      "source": [
        "\n",
        "##import numpy as np\n",
        "##from google.colab import files\n",
        "##from tensorflow.keras.utils import load_img, img_to_array\n",
        "\n",
        "\n",
        "##uploaded = files.upload()\n",
        "\n",
        "##for fn in uploaded.keys():\n",
        "\n",
        "##  # predicting images\n",
        "##  path = '/content/' + fn\n",
        "##  img = load_img(path, target_size=(28, 28,1))\n",
        "##  img= cv2.imread(\"uploaded\",0)\n",
        "\n",
        "##  x = img_to_array(img)\n",
        "\n",
        "##  x /= 255\n",
        " ### x = np.expand_dims(x, axis=0)\n",
        "\n",
        "\n",
        " # classes = model.predict(img, batch_size=10)\n",
        " # print(classes[0])\n",
        "  #digit = np.argmax(classes[0])\n",
        "  #if digit == 0:\n",
        "   # print(fn + \" is a 0\")\n",
        "  #elif digit == 1:\n",
        "    #print(fn + \" is a 1\")\n",
        "  #elif digit == 2:\n",
        "    #print(fn + \" is a 2\")\n",
        "  #elif digit == 3:\n",
        "    #print(fn + \" is a 3\")\n",
        "  #elif digit == 4:\n",
        "   # print(fn + \" is a 4\")\n",
        " # elif digit == 5:\n",
        "  #  print(fn + \" is a 5\")\n",
        "  #elif digit == 6:\n",
        " #   print(fn + \" is a 6\")\n",
        " # elif digit == 7:\n",
        " #   print(fn + \" is a 7\")\n",
        " # elif digit == 8:\n",
        " #   print(fn + \" is a 8\")\n",
        " # else:\n",
        "#    print(fn + \" is a 9\")"
      ]
    }
  ],
  "metadata": {
    "colab": {
      "provenance": []
    },
    "kernelspec": {
      "display_name": "Python 3",
      "name": "python3"
    },
    "language_info": {
      "name": "python"
    }
  },
  "nbformat": 4,
  "nbformat_minor": 0
}